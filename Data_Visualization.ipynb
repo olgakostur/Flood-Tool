{
 "cells": [
  {
   "cell_type": "code",
   "execution_count": null,
   "metadata": {},
   "outputs": [],
   "source": [
    "import os\n",
    "from sklearn.neighbors import KNeighborsRegressor\n",
    "import numpy as np\n",
    "import pandas as pd\n",
    "import matplotlib.pyplot as plt\n",
    "import shapefile   \n",
    "import geopandas as gpd\n",
    "import sys\n",
    "import matplotlib.pyplot as plt\n",
    "import folium\n",
    "from folium.plugins import MarkerCluster\n",
    "import warnings\n",
    "warnings.filterwarnings('ignore')\n",
    "\n",
    "import sys\n",
    "# sys.path is a list of absolute path strings\n",
    "sys.path.append('./flood_tool')\n",
    "\n",
    "from flood_tool import geo\n",
    "from flood_tool import tool\n",
    "from flood_tool import data_preprocessing as dp\n",
    "from flood_tool import mapping as mp\n",
    "\n",
    "# # from flood_tool import geo\n",
    "# # import flood_tool.smote as smote\n",
    "# from flood_tool import smote\n",
    "# # from smote import *\n",
    "# # from . import smote\n",
    "# # import tool\n",
    "## READ the unlabelled postcode input\n",
    "\n",
    "df1 = pd.read_csv('./flood_tool/resources/postcodes_unlabelled.csv')\n",
    "postcodes = df1.postcode\n",
    "\n",
    "#sectors =  gpd.read_file( './Distribution/Sectors.shp', low_memory=False)\n",
    "tool = tool.Tool()\n",
    "\n",
    "\n",
    "sectors = gpd.read_file(\"Sectors.shp\")"
   ]
  },
  {
   "cell_type": "markdown",
   "metadata": {},
   "source": [
    "## Visualising Predictions"
   ]
  },
  {
   "cell_type": "code",
   "execution_count": null,
   "metadata": {},
   "outputs": [],
   "source": [
    "risk_prediction = tool.get_flood_class(postcodes, method = 2)\n",
    "# print(risk_prediction)\n",
    "\n",
    "df = df1.merge(sectors, how = 'left', left_on = 'sector', right_on = 'name')\n",
    "\n",
    "df_pred = df.merge(risk_prediction, how = 'left', left_on = 'postcode', right_on = 'postcode')\n",
    "\n",
    "df_pred = df_pred.dropna()\n",
    "df_pred = df_pred.drop(['easting_y', 'northing_y'], axis = 1)\n",
    "#print(df_pred.riskLabel)\n",
    "gdf = gpd.GeoDataFrame(df_pred)\n",
    "# gdf.crs\n",
    "gdf.flood_risk.unique()"
   ]
  },
  {
   "cell_type": "code",
   "execution_count": null,
   "metadata": {},
   "outputs": [],
   "source": [
    "fig  = plt.figure(figsize=(20, 16))\n",
    "\n",
    "\n",
    "\n",
    "ax2 = plt.subplot()\n",
    "sectors.plot(ax=ax2, edgecolor= '#000000', facecolor='None', linewidth = 0.1, zorder=3)\n",
    "gdf.plot(column='flood_risk', k=10, legend=True, ax=ax2, edgecolor='grey', linewidth=0.4, cmap = 'hot') \n",
    "ax2.axis('off')\n",
    "ax2.set_title('Flooding Risk Level prediction per Postcode Sector', fontdict={'fontsize': '20', 'fontweight' : '3'})"
   ]
  },
  {
   "cell_type": "code",
   "execution_count": null,
   "metadata": {},
   "outputs": [],
   "source": [
    "median_price_prediction = tool.get_median_house_price_estimate(postcodes, method = 1)\n",
    "\n",
    "\n",
    "df = df1.merge(sectors, how = 'left', left_on = 'sector', right_on = 'name')\n",
    "\n",
    "df_pred_price = df.merge(median_price_prediction, how = 'left', left_on = 'postcode', right_on = 'Postcode')\n",
    "\n",
    "df_pred_price = df_pred_price.dropna()\n",
    "#df_pred_price = df_pred.drop(['easting_y', 'northing_y'], axis = 1)\n",
    "\n",
    "gdf_price = gpd.GeoDataFrame(df_pred_price)\n"
   ]
  },
  {
   "cell_type": "code",
   "execution_count": null,
   "metadata": {},
   "outputs": [],
   "source": [
    "fig  = plt.figure(figsize=(20, 16))\n",
    "\n",
    "\n",
    "\n",
    "ax2 = plt.subplot()\n",
    "sectors.plot(ax=ax2, edgecolor= '#000000', facecolor='None', linewidth = 0.1, zorder=3)\n",
    "gdf_price.plot(column='Median House Price Prediction', k=10, legend=True, ax=ax2, edgecolor='grey', linewidth=0.4, cmap = 'Reds') \n",
    "ax2.axis('off')\n",
    "ax2.set_title('Median house price predictions', fontdict={'fontsize': '20', 'fontweight' : '3'})"
   ]
  },
  {
   "cell_type": "code",
   "execution_count": null,
   "metadata": {},
   "outputs": [],
   "source": [
    "postcodes_of_interest = postcodes\n",
    "subset = gdf[gdf.postcode.isin(postcodes_of_interest)]\n",
    "subset.crs\n",
    "\n",
    "pred = df_pred_price.merge(df_pred, how = 'left', left_on= 'postcode', right_on= 'postcode' )\n",
    "\n",
    "\n",
    "pred = gpd.GeoDataFrame(pred)\n",
    "pred['geometry'] = pred['geometry_x']\n",
    "pred = pred.drop(['easting_x', 'northing_x','localAuthority_y', 'geometry_y', 'name_y', 'sector_y', 'geometry_x' ], axis = 1)\n",
    "\n",
    "#Jupyter crashes (webpage re-loads due to large memory usage)\n",
    "# when trying to plot all the data with Folium\n",
    "# Hence sample was used to show visualisation\n",
    "pred['Median House Price Prediction'] = pred['Median House Price Prediction'].round(2)\n",
    "\n",
    "pred = pred.sample( frac= 0.4)\n",
    "pred.head()"
   ]
  },
  {
   "cell_type": "code",
   "execution_count": null,
   "metadata": {},
   "outputs": [],
   "source": [
    "annual_flood_risk = tool.get_annual_flood_risk(list(pred.postcode))\n",
    "annual_flood_risk.head()"
   ]
  },
  {
   "cell_type": "code",
   "execution_count": null,
   "metadata": {},
   "outputs": [],
   "source": [
    "pred = pred.merge(annual_flood_risk, how='inner', left_on = 'postcode', right_on = 'postcodes').dropna()\n",
    "pred['total value'] = pred['total value'].round(2)\n",
    "pred['total_risk'] = pred['total_risk'].round(2)\n",
    "pred.head()"
   ]
  },
  {
   "cell_type": "code",
   "execution_count": null,
   "metadata": {},
   "outputs": [],
   "source": [
    "# Getting locations of pop-ups\n",
    "locations = tool.get_lat_long(pred.postcode)\n",
    "# locations\n",
    "\n",
    "plot_df = gpd.GeoDataFrame(locations.merge(pred, how = 'inner', on = 'postcode'))\n"
   ]
  },
  {
   "cell_type": "code",
   "execution_count": null,
   "metadata": {},
   "outputs": [],
   "source": [
    "#Creating a pop_up table\n",
    "\n",
    "def fancy_html(row):\n",
    "    i = row\n",
    "    \n",
    "    Postcode = plot_df['postcode'].iloc[i]                             \n",
    "    Local_Authority = plot_df['localAuthority_x'].iloc[i]                                                                     \n",
    "    Flood_Risk = plot_df['flood_risk'].iloc[i]                               \n",
    "    Median_House_Price = plot_df['Median House Price Prediction'].iloc[i]  \n",
    "    Total_Risk = plot_df['total_risk'].iloc[i] \n",
    "    Total_Value = plot_df['total value'].iloc[i] \n",
    "\n",
    "    left_col_colour = \"#2A799C\"\n",
    "    right_col_colour = \"#C5DCE7\"\n",
    "    \n",
    "    html = \"\"\"<!DOCTYPE html>\n",
    "<html>\n",
    "\n",
    "    <table style=\"height: 126px; width: 300px;\">\n",
    "<tbody>\n",
    "<tr>\n",
    "<td style=\"background-color: \"\"\"+ left_col_colour +\"\"\";\"><span style=\"color: #ffffff;\">Postcode</span></td>\n",
    "<td style=\"width: 200px;background-color: \"\"\"+ right_col_colour +\"\"\";\">{}</td>\"\"\".format(Postcode) + \"\"\"\n",
    "</tr>\n",
    "<tr>\n",
    "<td style=\"background-color: \"\"\"+ left_col_colour +\"\"\";\"><span style=\"color: #ffffff;\">Local_Authority</span></td>\n",
    "<td style=\"width: 200px;background-color: \"\"\"+ right_col_colour +\"\"\";\">{}</td>\"\"\".format(Local_Authority) + \"\"\"\n",
    "</tr>\n",
    "<tr>\n",
    "<td style=\"background-color: \"\"\"+ left_col_colour +\"\"\";\"><span style=\"color: #ffffff;\">Flood_Risk</span></td>\n",
    "<td style=\"width: 200px;background-color: \"\"\"+ right_col_colour +\"\"\";\">{}</td>\"\"\".format(Flood_Risk) + \"\"\"\n",
    "</tr>\n",
    "<tr>\n",
    "<td style=\"background-color: \"\"\"+ left_col_colour +\"\"\";\"><span style=\"color: #ffffff;\">Median_House_Price</span></td>\n",
    "<td style=\"width: 200px;background-color: \"\"\"+ right_col_colour +\"\"\";\">{}</td>\"\"\".format(Median_House_Price) + \"\"\"\n",
    "</tr>\n",
    "<tr>\n",
    "<td style=\"background-color: \"\"\"+ left_col_colour +\"\"\";\"><span style=\"color: #ffffff;\">Total_Risk</span></td>\n",
    "<td style=\"width: 200px;background-color: \"\"\"+ right_col_colour +\"\"\";\">{}</td>\"\"\".format(Total_Risk) + \"\"\"\n",
    "</tr>\n",
    "<tr>\n",
    "<td style=\"background-color: \"\"\"+ left_col_colour +\"\"\";\"><span style=\"color: #ffffff;\">Total_Value</span></td>\n",
    "<td style=\"width: 200px;background-color: \"\"\"+ right_col_colour +\"\"\";\">{}</td>\"\"\".format(Total_Value) + \"\"\"\n",
    "\n",
    "</tbody>\n",
    "</table>\n",
    "</html>\n",
    "\"\"\"\n",
    "    return html"
   ]
  },
  {
   "cell_type": "code",
   "execution_count": null,
   "metadata": {},
   "outputs": [],
   "source": [
    "import branca\n",
    "color = 'red'\n",
    "\n",
    "m = folium.Map()\n",
    "xmin, ymin, xmax, ymax = plot_df.total_bounds\n",
    "m.fit_bounds([[ymin, xmin], [ymax, xmax]])\n",
    "\n",
    "for i in range(0,len(plot_df)):\n",
    "    html = fancy_html(i)\n",
    " \n",
    "    iframe = branca.element.IFrame(html=html,width=300,height=200)\n",
    "    popup = folium.Popup(iframe,parse_html=True)\n",
    "    \n",
    "    folium.Marker([plot_df['Latitude'].iloc[i],plot_df['Longitude'].iloc[i]],\n",
    "                  popup=popup,icon=folium.Icon(color=color, icon='info-sign')).add_to(m)\n",
    "for _, r in plot_df.iterrows():\n",
    "    # Without simplifying the representation of each borough,\n",
    "    # the map might not be displayed\n",
    "    sim_geo = gpd.GeoSeries(plot_df['geometry']).simplify(tolerance=0.001)\n",
    "    geo_j = sim_geo.to_json()\n",
    "    geo_j = folium.GeoJson(data=geo_j,\n",
    "                           style_function=lambda x: {'fillColor': 'None'})\n",
    "\n",
    "    geo_j.add_to(m)\n",
    "\n",
    "m"
   ]
  },
  {
   "cell_type": "code",
   "execution_count": null,
   "metadata": {},
   "outputs": [],
   "source": [
    "df_pred_price\n",
    "East_data=df_pred_price.easting\n",
    "North_data=df_pred_price.northing\n",
    "loc=[]\n",
    "for E, N in zip(East_data, North_data):\n",
    "    lat = geo.get_gps_lat_long_from_easting_northing(E, N, rads=False, dms=False)[0][0] \n",
    "    long = geo.get_gps_lat_long_from_easting_northing(E, N, rads=False, dms=False)[1][0]\n",
    "    loc.append((lat, long))\n",
    "\n",
    "import numpy as np\n",
    "\n",
    "\n",
    "locations = loc\n"
   ]
  },
  {
   "cell_type": "code",
   "execution_count": null,
   "metadata": {},
   "outputs": [],
   "source": [
    "plot_df.shape"
   ]
  },
  {
   "cell_type": "code",
   "execution_count": null,
   "metadata": {},
   "outputs": [],
   "source": [
    "import matplotlib.pyplot as plt\n",
    "\n",
    "import folium\n",
    "from folium.plugins import MarkerCluster\n",
    "m1=folium.Map(location=[54, -0.5],zoom_start=11,min_zoom=6,max_zoom=14)\n",
    "folium.GeoJson(sectors).add_to(m1)\n",
    "folium.TileLayer('Stamen Toner').add_to(m1)\n",
    "marker_cluster = MarkerCluster(locations)\n",
    "marker_cluster.add_to(m1)\n",
    "folium.LayerControl().add_to(m1)\n",
    "m1"
   ]
  },
  {
   "cell_type": "markdown",
   "metadata": {},
   "source": [
    "## Rainfall Visualisation"
   ]
  },
  {
   "cell_type": "code",
   "execution_count": null,
   "metadata": {},
   "outputs": [],
   "source": [
    "typ_day = pd.read_csv('./flood_tool/resources/typical_day.csv')"
   ]
  },
  {
   "cell_type": "code",
   "execution_count": null,
   "metadata": {},
   "outputs": [],
   "source": [
    "rainfall= dp.get_rainfall_data_processed(typ_day)\n",
    "rainfall.sort_values(['value'],ascending=False)"
   ]
  },
  {
   "cell_type": "code",
   "execution_count": null,
   "metadata": {},
   "outputs": [],
   "source": [
    "# Import the station data\n",
    "stations = pd.read_csv('./flood_tool/resources/stations.csv')\n",
    "stations.dropna(inplace=True)\n",
    "stations.head()"
   ]
  },
  {
   "cell_type": "markdown",
   "metadata": {},
   "source": [
    "## Rainfall hourly for a typical day"
   ]
  },
  {
   "cell_type": "code",
   "execution_count": null,
   "metadata": {},
   "outputs": [],
   "source": [
    "rainfall_h = dp.get_rainfall_per_hour_data(rainfall, stations)\n",
    "highrain_stations = rainfall_h.loc[rainfall_h.class_rain != 'slight', :]\n",
    "lat, lon, classe = highrain_stations.latitude.unique(), highrain_stations.longitude.unique(), highrain_stations.class_rain.unique()"
   ]
  },
  {
   "cell_type": "markdown",
   "metadata": {},
   "source": [
    "## Rainfall hourly for a wet day"
   ]
  },
  {
   "cell_type": "code",
   "execution_count": null,
   "metadata": {},
   "outputs": [],
   "source": [
    "# Import the typical_day data & pre-process\n",
    "wet_day = pd.read_csv('./flood_tool/resources/wet_day.csv')\n",
    "wet_day = dp.get_rainfall_data_processed(wet_day)\n",
    "wet_day_h = dp.get_rainfall_per_hour_data(wet_day, stations)\n",
    "heavy_rain_wetd = wet_day_h.loc[wet_day_h.class_rain != 'slight', :]\n",
    "heavy_rain_wetd.drop(['dateTime', 'value_y', 'min'], axis=1, inplace=True)\n",
    "heavy_rain_wetd.drop_duplicates(inplace=True)\n"
   ]
  },
  {
   "cell_type": "markdown",
   "metadata": {},
   "source": [
    "### Plotting the station where the rainfall per hour pour a typical day is moderate, heavy or violent"
   ]
  },
  {
   "cell_type": "code",
   "execution_count": null,
   "metadata": {},
   "outputs": [],
   "source": [
    "def generate_popup(elem):\n",
    "    html = f'''<b1>Typicial day rainfall : <br />\\\n",
    "    <b>{elem}</b>\\\n",
    "    '''\n",
    "\n",
    "    iframe = folium.IFrame(html,\n",
    "                           width=400,\n",
    "                           height=50)\n",
    "\n",
    "    popup = folium.Popup(iframe,\n",
    "                         max_width=150)\n",
    "    \n",
    "    return popup"
   ]
  },
  {
   "cell_type": "code",
   "execution_count": null,
   "metadata": {},
   "outputs": [],
   "source": [
    "map = mp.plot_circle(lat[0], lon[0], radius=4000, zoom_start = 6.5)\n",
    "folium.Marker(location=(lat[0], lon[0]), \n",
    "                  popup=generate_popup(classe[0]),\n",
    "                  icon=folium.Icon(color='lightblue', icon='info-sign')).add_to(map)\n",
    "\n",
    "folium.Circle(location=[lat[1], lon[1]], radius=4000, fill=True,\n",
    "                  fillOpacity=0.6).add_to(map)\n",
    "folium.Marker(location=(lat[1], lon[1]), \n",
    "                  popup=generate_popup(classe[0]),\n",
    "                  icon=folium.Icon(color='lightblue', icon='info-sign')).add_to(map)\n",
    "\n",
    "folium.Circle(location=[lat[2], lon[2]], radius=4000, fill=True,\n",
    "                  fillOpacity=0.6, color='darkblue').add_to(map)\n",
    "folium.Marker(location=(lat[2], lon[2]), \n",
    "                  popup=generate_popup(classe[1]),\n",
    "                  icon=folium.Icon(color='darkblue', icon='info-sign')).add_to(map)\n",
    "\n",
    "map"
   ]
  },
  {
   "cell_type": "markdown",
   "metadata": {},
   "source": [
    "### Plotting the station where the rainfall per hour for a wet day is moderate, heavy or violent"
   ]
  },
  {
   "cell_type": "code",
   "execution_count": null,
   "metadata": {},
   "outputs": [],
   "source": [
    "import folium\n",
    "\n",
    "map = mp.plot_circle(heavy_rain_wetd.iloc[0,9], heavy_rain_wetd.iloc[0,10], radius=4000, zoom_start = 6.5)\n",
    "folium.Marker(location=(heavy_rain_wetd.iloc[0,9], heavy_rain_wetd.iloc[0,10]), \n",
    "                  popup=generate_popup(heavy_rain_wetd.iloc[0,3]),\n",
    "                  icon=folium.Icon(color='lightblue', icon='info-sign')).add_to(map)\n",
    "\n",
    "for i in range(1,len(heavy_rain_wetd.loc[heavy_rain_wetd.class_rain == 'moderate', :])):\n",
    "    folium.Circle(location=[heavy_rain_wetd.iloc[i,9], heavy_rain_wetd.iloc[i,10]], radius=4000, fill=True,\n",
    "                  fillOpacity=0.6, color='lightblue').add_to(map)\n",
    "    folium.Marker(location=(heavy_rain_wetd.iloc[i,9], heavy_rain_wetd.iloc[i,10]), \n",
    "                  popup=generate_popup('moderate'),\n",
    "                  icon=folium.Icon(color='lightblue', icon='info-sign')).add_to(map)\n",
    "\n",
    "for i in range(0,len(heavy_rain_wetd.loc[heavy_rain_wetd.class_rain == 'heavy', :])):\n",
    "    folium.Circle(location=[heavy_rain_wetd.iloc[i,9], heavy_rain_wetd.iloc[i,10]], radius=4000, fill=True,\n",
    "                  fillOpacity=0.6, color='darkblue').add_to(map)\n",
    "    folium.Marker(location=(heavy_rain_wetd.iloc[i,9], heavy_rain_wetd.iloc[i,10]), \n",
    "                  popup=generate_popup('heavy'),\n",
    "                  icon=folium.Icon(color='darkblue', icon='info-sign')).add_to(map)\n",
    "\n",
    "for i in range(0,len(heavy_rain_wetd.loc[heavy_rain_wetd.class_rain == 'violent', :])):\n",
    "    folium.Circle(location=[heavy_rain_wetd.iloc[i,9], heavy_rain_wetd.iloc[i,10]], radius=4000, fill=True,\n",
    "                  fillOpacity=0.6, color='darkred').add_to(map)\n",
    "    folium.Marker(location=(heavy_rain_wetd.iloc[i,9], heavy_rain_wetd.iloc[i,10]), \n",
    "                  popup=generate_popup('violent'),\n",
    "                  icon=folium.Icon(color='darkred', icon='info-sign')).add_to(map)\n",
    "\n",
    "map"
   ]
  },
  {
   "cell_type": "markdown",
   "metadata": {},
   "source": [
    "## Map Rivers typical day"
   ]
  },
  {
   "cell_type": "code",
   "execution_count": null,
   "metadata": {},
   "outputs": [],
   "source": [
    "# Import the typical_day data\n",
    "typ_day = pd.read_csv('./flood_tool/resources/typical_day.csv')\n"
   ]
  },
  {
   "cell_type": "code",
   "execution_count": null,
   "metadata": {},
   "outputs": [],
   "source": [
    "# Import the station data\n",
    "stations = pd.read_csv('./flood_tool/resources/stations.csv')\n",
    "stations.dropna(inplace=True)\n",
    "stations.head()"
   ]
  },
  {
   "cell_type": "markdown",
   "metadata": {},
   "source": [
    "## Rivers' height evolution for a typical day"
   ]
  },
  {
   "cell_type": "code",
   "execution_count": null,
   "metadata": {},
   "outputs": [],
   "source": [
    "\n",
    "rivers_typ = dp.get_level_data_processed(typ_day)"
   ]
  },
  {
   "cell_type": "code",
   "execution_count": null,
   "metadata": {},
   "outputs": [],
   "source": [
    "rivers_typ = dp.get_level_data_aggregate(rivers_typ, stations)\n",
    "rivers_std_typ = rivers_typ.sort_values(('value', 'std'), ascending = False)[0:5]"
   ]
  },
  {
   "cell_type": "markdown",
   "metadata": {},
   "source": [
    "## Rivers' height evolution for a wet day"
   ]
  },
  {
   "cell_type": "code",
   "execution_count": null,
   "metadata": {},
   "outputs": [],
   "source": [
    "# Import the typical_day data\n",
    "wet_rivers_day = pd.read_csv('./flood_tool/resources/wet_day.csv')\n",
    "rivers_wd = dp.get_level_data_processed(wet_rivers_day)\n",
    "rivers_wd_agg = dp.get_level_data_aggregate(rivers_wd, stations)"
   ]
  },
  {
   "cell_type": "code",
   "execution_count": null,
   "metadata": {},
   "outputs": [],
   "source": [
    "rivers_std = rivers_wd_agg.sort_values(('value', 'std'), ascending = False)[0:5]"
   ]
  },
  {
   "cell_type": "markdown",
   "metadata": {},
   "source": [
    "### Plotting the top five station where the rivers height can change in a day for a wet day"
   ]
  },
  {
   "cell_type": "code",
   "execution_count": null,
   "metadata": {},
   "outputs": [],
   "source": [
    "def generate_popup(elem):\n",
    "    html = f'''<b1>Rivers mASD standard dev. : <br />\\\n",
    "    <b>{elem}</b>\\\n",
    "    '''\n",
    "\n",
    "    iframe = folium.IFrame(html,\n",
    "                           width=300,\n",
    "                           height=50)\n",
    "\n",
    "    popup = folium.Popup(iframe,\n",
    "                         max_width=200)\n",
    "    \n",
    "    return popup"
   ]
  },
  {
   "cell_type": "code",
   "execution_count": null,
   "metadata": {},
   "outputs": [],
   "source": [
    "import folium\n",
    "\n",
    "map = flood_tool.plot_circle(rivers_std.iloc[0,4], rivers_std.iloc[0,5], radius=4000, zoom_start = 6.5)\n",
    "folium.Marker(location=(rivers_std.iloc[0,4], rivers_std.iloc[0,5]), \n",
    "                  popup=generate_popup(round(rivers_std.iloc[0,2], 2)),\n",
    "                  icon=folium.Icon(color='darkgreen', icon='info-sign')).add_to(map)\n",
    "\n",
    "for i in range(1,len(rivers_std)):\n",
    "    folium.Circle(location=[rivers_std.iloc[i,4], rivers_std.iloc[i,5]], radius=4000, fill=True,\n",
    "                  fillOpacity=0.6, color='green').add_to(map)\n",
    "    folium.Marker(location=(rivers_std.iloc[i,4], rivers_std.iloc[i,5]), \n",
    "                  popup=generate_popup(round(rivers_std.iloc[i,2], 2)),\n",
    "                  icon=folium.Icon(color='green', icon='info-sign')).add_to(map)\n",
    "\n",
    "map"
   ]
  },
  {
   "cell_type": "markdown",
   "metadata": {},
   "source": [
    "### Plotting the top five station where the rivers height can change in a day for a typical day"
   ]
  },
  {
   "cell_type": "code",
   "execution_count": null,
   "metadata": {},
   "outputs": [],
   "source": [
    "import folium\n",
    "\n",
    "map = flood_tool.plot_circle(rivers_std_typ.iloc[0,4], rivers_std_typ.iloc[0,5], radius=4000, zoom_start = 6.5)\n",
    "folium.Marker(location=(rivers_std_typ.iloc[0,4], rivers_std_typ.iloc[0,5]), \n",
    "                  popup=generate_popup(round(rivers_std_typ.iloc[0,2], 2)),\n",
    "                  icon=folium.Icon(color='darkgreen', icon='info-sign')).add_to(map)\n",
    "\n",
    "for i in range(1,len(rivers_std_typ)):\n",
    "    folium.Circle(location=[rivers_std_typ.iloc[i,4], rivers_std_typ.iloc[i,5]], radius=4000, fill=True,\n",
    "                  fillOpacity=0.6, color='green').add_to(map)\n",
    "    folium.Marker(location=(rivers_std_typ.iloc[i,4], rivers_std_typ.iloc[i,5]), \n",
    "                  popup=generate_popup(round(rivers_std_typ.iloc[i,2], 2)),\n",
    "                  icon=folium.Icon(color='green', icon='info-sign')).add_to(map)\n",
    "\n",
    "map"
   ]
  },
  {
   "cell_type": "code",
   "execution_count": null,
   "metadata": {},
   "outputs": [],
   "source": []
  }
 ],
 "metadata": {
  "interpreter": {
   "hash": "14b0b0b101428f4b0b096713c8a93a99c6a2cacca8ff8dd382616e5ac7ccfce8"
  },
  "kernelspec": {
   "display_name": "Python 3",
   "language": "python",
   "name": "python3"
  },
  "language_info": {
   "codemirror_mode": {
    "name": "ipython",
    "version": 3
   },
   "file_extension": ".py",
   "mimetype": "text/x-python",
   "name": "python",
   "nbconvert_exporter": "python",
   "pygments_lexer": "ipython3",
   "version": "3.8.8"
  }
 },
 "nbformat": 4,
 "nbformat_minor": 4
}
